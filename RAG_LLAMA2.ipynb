{
 "cells": [
  {
   "cell_type": "code",
   "execution_count": 1,
   "id": "0377a9f2-89af-4975-9c54-4074a902c8d2",
   "metadata": {},
   "outputs": [],
   "source": [
    "import PyPDF2\n",
    "from langchain.prompts import PromptTemplate\n",
    "from langchain.llms import CTransformers"
   ]
  },
  {
   "cell_type": "code",
   "execution_count": 2,
   "id": "d935c27b-35e5-4afc-b9d8-4c3a99e20de5",
   "metadata": {},
   "outputs": [],
   "source": [
    "def read_document(file_path):\n",
    "    with open(file_path, 'rb') as file:\n",
    "        reader = PyPDF2.PdfReader(file)\n",
    "        text = ''\n",
    "        for page_num in range(len(reader.pages)):\n",
    "            page = reader.pages[page_num]\n",
    "            text += page.extract_text()\n",
    "    return text"
   ]
  },
  {
   "cell_type": "code",
   "execution_count": 3,
   "id": "d0e9479d-4f97-4ec5-be4b-14d3cdb16eab",
   "metadata": {},
   "outputs": [],
   "source": [
    "def get_llama_response(prompt, temperature=0.7):\n",
    "    llm = CTransformers(model=\"llama2_model/llama-2-7b.ggmlv3.q3_K_S.bin\",\n",
    "                        model_type=\"llama\",\n",
    "                        config={\"max_new_tokens\": 256, \"temperature\": temperature})\n",
    "    response = llm(prompt)\n",
    "    return response"
   ]
  },
  {
   "cell_type": "code",
   "execution_count": 4,
   "id": "03e546c9-d439-44e4-ae94-d8eda41fcd92",
   "metadata": {},
   "outputs": [],
   "source": [
    "document_path = \"Covid-19 vaccine hesitancy.pdf\"\n",
    "document_content = read_document(document_path)\n"
   ]
  },
  {
   "cell_type": "code",
   "execution_count": null,
   "id": "300a8381-0d3f-437e-9ec7-ac1b04535ae5",
   "metadata": {},
   "outputs": [
    {
     "name": "stdin",
     "output_type": "stream",
     "text": [
      "Your question:  what is covid?\n"
     ]
    },
    {
     "name": "stderr",
     "output_type": "stream",
     "text": [
      "/Users/student/anaconda3/lib/python3.9/site-packages/langchain_core/_api/deprecation.py:119: LangChainDeprecationWarning: The method `BaseLLM.__call__` was deprecated in langchain-core 0.1.7 and will be removed in 0.2.0. Use invoke instead.\n",
      "  warn_deprecated(\n"
     ]
    },
    {
     "name": "stdout",
     "output_type": "stream",
     "text": [
      ", The Open University of Tanzania, Dar es Salaam,Tanzania bSigasi Centre of ICT4G Innovations Africa, Dar es Salaam, Tanzania cSchool of Computing and Information Technology, Mzumbe University, Morogoro, Tanzania dDepartment of Computer Science and Information Tech, The Open University of Tanzania, Dar es Salaam,Tanzania eDepartment of Computer Science and Information Tech, The Open University of Tanzania, Dar es Salaam,Tanzania\n",
      "Corresponding author. Miftahul Qoriba (miftahulq@gmail.com)\n",
      "Received 25 July 2022; Received in revised form 3 August 2022; Accepted 6 August 2022; online first: September 02 2022 DOI: https://doi.org/10.1016/j.eswa.2022.118715\n",
      "Abstract The COVID-19 pandemic has affected many countries and has led to the deaths of millions of people world\n",
      "ington, DC, United States \n",
      "fSchool of Pharmacy and Molecular Biosciences, National Research Council of Italy (CNR), Pisa, Italy \n",
      "gDepartment of Biomedical Sciences for Health, Università degli Studi di Milano, Milan, Italy \n",
      "hDepartment of Computer Science, University of the District of Columbia, Washington, DC, United States \n",
      "iNational Center of Oncology, ASL Rome I and RWTH Aachen University, Monza, Italy. gInstitute of Systems Research at the National Academy of Sciences of Ukraine, Kyiv, Ukraine \n",
      "jDepartment of Electrical and Computer Engineering, University of the District of Columbia, Washington, DC, United States \n",
      "kDepartment of Biomedical Science, UT MD Anderson Cancer Center, Houston, TX, United States \n",
      "lInstitute for Systems Research at the National Academy of Sciences of Ukraine, Kyiv, Ukraine \n",
      "mInstitute for Systems Research at the National Academy of Sciences of Ukraine, Kyiv, Ukraine \n",
      "nDepartment of Electrical and Computer Engineering, University of the District of Columbia, Washington, DC, United States \n",
      "oInst\n",
      " United States (U.S.) began administering vaccines to slow the pandemic down, leading up \n",
      "to complete normalcy once again. With an objective to create awareness of coronavirus and its vaccine, this paper focuses on analyzing tweets about Covid-19 and vaccination hesitancy using sentiment analysis and machine learning algorithms in python language. Our experiment involves three main steps: \n",
      "1) collecting the dataset from Twitter API, 2) preprocessing the collected data by removing stop words and punctuations, 3) extracting keywords that represent sentiments and building a classifier model to predict the sentiment of each tweet using machine learning algorithms. The results show that the accuracy of the models is around 90%. This project provides a glimpse into how we can leverage data mining techniques such as sentiment analysis for analyzing tweets on COVID-19 and vaccine hesitancy, which could be useful in public health policy making decisions.\n",
      "\n",
      "hetoric-centric source for this study. This research explores the rhetorical strategies used by both sides \n",
      "of the vaccination debate on Twitter in the United States. The data were analyzed using Critical Discourse \n",
      "Study (CDS) framework, and a mixed methods approach was applied to analyze the data. The results of this \n",
      "study showed that there are at least six different strategies employed by pro-vaccine and anti-vaccine \n",
      "groups in their tweets on COVID-19 vaccination: (1) Framing, (2) Presupposition, (3) Argumentation, (4) \n",
      "Anecdotes, (5) Narratives, and (6) Appeals. The results also showed that the pro-vaccine group used more \n",
      "rhetorical strategies than the anti-vaccination side; moreover, a single rhetorical strategy was enough for \n",
      "pro-vaccinators to influence the audience. Based on this result and analysis of the data, the researcher \n",
      "suggests that a positive, compassionate narrative about vaccines should\n",
      " stop word list, and a \n",
      "vocabulary size limit of 1000. To reduce computational cost, only 1% of the training dataset was used for \n",
      "evaluation. The sentiment analysis methods were trained using 90% of the dataset while the \n",
      "remaining 10% were evaluated against. A confusion matrix and a receiver operating characteristic \n",
      "curve were constructed to validate the models’ accuracy, sensitivity, precision, F-scores, positive, \n",
      "negative predictive values, and area under the curve (AUC). The results showed that the best model \n",
      "was the Naïve Bayes with Doc2Vec vectorization. This model had an AUC of 0.937, accuracy of 61.28%, \n",
      "sensitivity of 54.44%, and precision of 67.27%. The sentiment analysis methods were also used to \n",
      "analyze the COVID-19 vaccine hesitancy on Twitter. The results showed that the most popular hashtags \n",
      "were #COVID19, #VaccinateNigeria, #Covid19Vaccine, and #Cov\n",
      " c vaccine hesitancy.\n",
      "\n",
      "### Acknowledgements\n",
      "\n",
      "This study is made possible thanks to Universiti Teknologi MARA (UiTM) and Universiti Kebangsaan Malaysia (UKM), Universiti Kebangsaan Malaysia Graduate Research Fellowship for supporting me. My sincere gratitude goes to my supervisor, Dr. Muhammad Zulhilmi Bin Saari of School of Graduate Studies, UKM and Dr. Mohd Nor Azman Bin Mohamed Ali of Universiti Teknologi MARA (UiTM) for their guidance and support throughout the project period. My sincere appreciation goes to my committee members, Dr. Muhammad Zulhilmi Bin Saari from UKM who assist me in developing the methodology and designing the study as well as providing guidance during the research process. I would also like to express my gratitude to Dr. Mohd Nor Azman Bin Mohamed Ali of Universiti Teknologi MARA (UiTM) for his assistance in data collection, analysis, and interpretation.\n",
      "\n",
      "### Conflicts Of Interest\n",
      "\n",
      "The author declares that\n",
      "irs time in December of 2019 by the World Health Organization (WHO). The virus is an acute respiratory \n",
      "syndrome caused by a novel coronavirus, which has been named SARS-CoV-2. \n",
      "COVID-19 presents clinical features like shortness of breath, cough and fever. The disease can be fatal to those with severe symptoms or whose immune systems are weakened from underlying conditions such as diabetes, cancer, heart disease, chronic lung disease, and HIV/AIDS. \n",
      "The virus is spread through respiratory droplets when an infected person coughs or sneezes, making close contact with an infected person a risk factor for contracting the virus. The virus can also be transmitted from surfaces contaminated by infected people and objects carrying their bodily fluids (like phones). \n",
      "The disease has been reported in over 180 countries, and has spread rapidly throughout the world. As of March 25th, 2020 there were 97,842 confirmed cases globally, with the number doubling every two weeks\n"
     ]
    }
   ],
   "source": [
    "while True:\n",
    "    user_input = input(\"Your question: \")\n",
    "    \n",
    "    if user_input.lower() in ['q', 'quit']:\n",
    "        print(\"Exiting...\")\n",
    "        break\n",
    "    \n",
    "    max_tokens = 512  # Maximum number of tokens per input\n",
    "    chunks = [document_content[i:i + max_tokens] for i in range(0, len(document_content), max_tokens)]\n",
    "    \n",
    "    for chunk in chunks:\n",
    "        response = get_llama_response(chunk)\n",
    "        print(response)"
   ]
  },
  {
   "cell_type": "code",
   "execution_count": null,
   "id": "c82d455e-c8c1-4230-a6d2-e09bd8f307c3",
   "metadata": {},
   "outputs": [],
   "source": []
  }
 ],
 "metadata": {
  "kernelspec": {
   "display_name": "Python 3 (ipykernel)",
   "language": "python",
   "name": "python3"
  },
  "language_info": {
   "codemirror_mode": {
    "name": "ipython",
    "version": 3
   },
   "file_extension": ".py",
   "mimetype": "text/x-python",
   "name": "python",
   "nbconvert_exporter": "python",
   "pygments_lexer": "ipython3",
   "version": "3.9.18"
  }
 },
 "nbformat": 4,
 "nbformat_minor": 5
}
